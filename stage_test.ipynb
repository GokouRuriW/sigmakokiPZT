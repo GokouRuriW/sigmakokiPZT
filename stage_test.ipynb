{
 "cells": [
  {
   "cell_type": "code",
   "execution_count": 1,
   "metadata": {},
   "outputs": [
    {
     "data": {
      "text/plain": [
       "b'OK\\r\\n'"
      ]
     },
     "execution_count": 1,
     "metadata": {},
     "output_type": "execute_result"
    }
   ],
   "source": [
    "from FINE_01r import PZTstages\n",
    "import numpy as np\n",
    "import time\n",
    "\n",
    "import ipywidgets as widgets\n",
    "from IPython.display import display\n",
    "\n",
    "pztstage = PZTstages('COM5')\n",
    "pztstage.click_Origin()"
   ]
  },
  {
   "cell_type": "code",
   "execution_count": 2,
   "metadata": {},
   "outputs": [
    {
     "data": {
      "application/vnd.jupyter.widget-view+json": {
       "model_id": "942fd129608c46c79c8ac9925a2b0964",
       "version_major": 2,
       "version_minor": 0
      },
      "text/plain": [
       "Text(value='', description='输入数字:')"
      ]
     },
     "metadata": {},
     "output_type": "display_data"
    },
    {
     "data": {
      "application/vnd.jupyter.widget-view+json": {
       "model_id": "0f6cc8014b6c45359f97bf948870a1b1",
       "version_major": 2,
       "version_minor": 0
      },
      "text/plain": [
       "Button(description='执行', style=ButtonStyle())"
      ]
     },
     "metadata": {},
     "output_type": "display_data"
    },
    {
     "data": {
      "application/vnd.jupyter.widget-view+json": {
       "model_id": "3bb550e652e7425083dbe1339a288905",
       "version_major": 2,
       "version_minor": 0
      },
      "text/plain": [
       "Button(description='显示', style=ButtonStyle())"
      ]
     },
     "metadata": {},
     "output_type": "display_data"
    },
    {
     "data": {
      "application/vnd.jupyter.widget-view+json": {
       "model_id": "6b91390ecced4a79bef73a7b5020c060",
       "version_major": 2,
       "version_minor": 0
      },
      "text/plain": [
       "Text(value='', description='显示数字:')"
      ]
     },
     "metadata": {},
     "output_type": "display_data"
    },
    {
     "data": {
      "application/vnd.jupyter.widget-view+json": {
       "model_id": "87afd62601314f58beffea63e4f984d8",
       "version_major": 2,
       "version_minor": 0
      },
      "text/plain": [
       "Button(description='归零', style=ButtonStyle())"
      ]
     },
     "metadata": {},
     "output_type": "display_data"
    }
   ],
   "source": [
    "def button1_clicked(button):\n",
    "    number = int(textbox1.value)\n",
    "    pztstage.click_MoveAbs(number)\n",
    "    \n",
    "def button2_clicked(button):\n",
    "    rdata = pztstage.click_Status()\n",
    "    data = int(rdata)\n",
    "    textbox3.value = str(data)\n",
    "\n",
    "def button3_clicked(button):\n",
    "    pztstage.click_Origin()\n",
    "\n",
    "# 创建文本框和按钮\n",
    "textbox1 = widgets.Text(description='输入数字:')\n",
    "textbox3 = widgets.Text(description='显示数字:')\n",
    "button1 = widgets.Button(description=\"执行\")\n",
    "button2 = widgets.Button(description=\"显示\")\n",
    "button3 = widgets.Button(description=\"归零\")\n",
    "\n",
    "# 绑定按钮的点击事件处理函数\n",
    "button1.on_click(button1_clicked)\n",
    "button2.on_click(button2_clicked)\n",
    "button3.on_click(button3_clicked)\n",
    "\n",
    "# 显示文本框和按钮\n",
    "display(textbox1, button1)\n",
    "display(button2, textbox3)\n",
    "display(button3)"
   ]
  }
 ],
 "metadata": {
  "kernelspec": {
   "display_name": "phasestable",
   "language": "python",
   "name": "python3"
  },
  "language_info": {
   "codemirror_mode": {
    "name": "ipython",
    "version": 3
   },
   "file_extension": ".py",
   "mimetype": "text/x-python",
   "name": "python",
   "nbconvert_exporter": "python",
   "pygments_lexer": "ipython3",
   "version": "3.9.18"
  }
 },
 "nbformat": 4,
 "nbformat_minor": 2
}
